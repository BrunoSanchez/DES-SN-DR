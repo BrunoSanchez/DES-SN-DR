{
 "cells": [
  {
   "cell_type": "markdown",
   "metadata": {},
   "source": [
    "# DES SN 5YR Tutorial Part 1: Load DES Photometry"
   ]
  },
  {
   "cell_type": "markdown",
   "metadata": {},
   "source": [
    "<img align=\"left\" src = ../_static/images/logo044.jpg width=120 style=\"padding: 10px\"> \n",
    "<br><b>Dark Energy Survey Supernova Program</b>\n",
    "\n",
    "<b>Tutorial Part 1</b>\n",
    "<b>Load all Photometry</b> <br>\n",
    "Contact author: Bruno Sánchez\n",
    "(bsanchez@cppm.in2p3.fr) \n",
    "<br>"
   ]
  },
  {
   "cell_type": "markdown",
   "metadata": {},
   "source": [
    "This tutorial is intended to show how to use the `dessndr` python package to load some of the light-curve data from the DES SN 5YR Data Release.\n",
    "\n",
    "We will demonstrate how to load a transient record, check its parameters and plot its photometrical light-curve."
   ]
  },
  {
   "cell_type": "markdown",
   "metadata": {},
   "source": [
    "We will load the package `utils` module and `data` module.\n",
    "\n",
    "`utils` provides functionality to read the data formats\n",
    "\n",
    "`data` provides with the location of the downloaded DR files."
   ]
  },
  {
   "cell_type": "code",
   "execution_count": 1,
   "metadata": {},
   "outputs": [],
   "source": [
    "import warnings\n",
    "warnings.filterwarnings(\"ignore\")"
   ]
  },
  {
   "cell_type": "code",
   "execution_count": 2,
   "metadata": {},
   "outputs": [],
   "source": [
    "import os"
   ]
  },
  {
   "cell_type": "code",
   "execution_count": 3,
   "metadata": {},
   "outputs": [],
   "source": [
    "from dessndr import utils, data"
   ]
  },
  {
   "cell_type": "markdown",
   "metadata": {},
   "source": [
    "This is the loacation of the cloned DR repository in our system:"
   ]
  },
  {
   "cell_type": "code",
   "execution_count": 4,
   "metadata": {},
   "outputs": [
    {
     "name": "stdout",
     "output_type": "stream",
     "text": [
      "/Users/sanchez/Data/DES/DESSNDR\n"
     ]
    }
   ],
   "source": [
    "print(data.DES5YRDR_DATA_ROOT)"
   ]
  },
  {
   "cell_type": "markdown",
   "metadata": {},
   "source": [
    "The data module also provides with some functions to get individual files from the repo:"
   ]
  },
  {
   "cell_type": "code",
   "execution_count": 5,
   "metadata": {},
   "outputs": [
    {
     "data": {
      "text/plain": [
       "\u001b[0;31mSignature:\u001b[0m\n",
       "\u001b[0mdata\u001b[0m\u001b[0;34m.\u001b[0m\u001b[0mclone_repo\u001b[0m\u001b[0;34m(\u001b[0m\u001b[0;34m\u001b[0m\n",
       "\u001b[0;34m\u001b[0m    \u001b[0mrepo_url\u001b[0m\u001b[0;34m=\u001b[0m\u001b[0;34m'https://github.com/des-science/DES-SN5YR'\u001b[0m\u001b[0;34m,\u001b[0m\u001b[0;34m\u001b[0m\n",
       "\u001b[0;34m\u001b[0m    \u001b[0mdest_folder\u001b[0m\u001b[0;34m=\u001b[0m\u001b[0;34m'/Users/sanchez/Data/DES/DESSNDR'\u001b[0m\u001b[0;34m,\u001b[0m\u001b[0;34m\u001b[0m\n",
       "\u001b[0;34m\u001b[0m\u001b[0;34m)\u001b[0m\u001b[0;34m\u001b[0m\u001b[0;34m\u001b[0m\u001b[0m\n",
       "\u001b[0;31mDocstring:\u001b[0m <no docstring>\n",
       "\u001b[0;31mFile:\u001b[0m      ~/Data/DES/DESSNDR/DESSN5YR_TESTDR/dessndr/data.py\n",
       "\u001b[0;31mType:\u001b[0m      function"
      ]
     },
     "metadata": {},
     "output_type": "display_data"
    }
   ],
   "source": [
    "data.clone_repo?"
   ]
  },
  {
   "cell_type": "markdown",
   "metadata": {},
   "source": [
    "Now we are going to load the DES photometry files:"
   ]
  },
  {
   "cell_type": "code",
   "execution_count": 6,
   "metadata": {},
   "outputs": [],
   "source": [
    "# This should be \n",
    "# phot_version = os.path.join(data.DES5YRDR_DATA, '0_DATA/DES-SN5YR_DES') \n",
    "phot_version = os.path.join(\n",
    "    data.DES5YRDR_DATA_ROOT, \n",
    "    'DES-SN5YR/0_DATA/DES-SN5YR_DESDR/DES-SN5YR_DESDR'\n",
    ")"
   ]
  },
  {
   "cell_type": "markdown",
   "metadata": {},
   "source": [
    "We make use of the `utils.PhotFITS` reader class. We make an instance pointing to the photometry version we want to use (SMP nominal files or DIFFIMG).\n",
    "\n",
    "Please check that what this reader looks for a `version` photometry value. This is the prefix for the files that correspond to a single photometry dataset."
   ]
  },
  {
   "cell_type": "code",
   "execution_count": 7,
   "metadata": {},
   "outputs": [
    {
     "data": {
      "text/plain": [
       "\u001b[0;31mInit signature:\u001b[0m \u001b[0mutils\u001b[0m\u001b[0;34m.\u001b[0m\u001b[0mPhotFITS\u001b[0m\u001b[0;34m(\u001b[0m\u001b[0mversion\u001b[0m\u001b[0;34m)\u001b[0m\u001b[0;34m\u001b[0m\u001b[0;34m\u001b[0m\u001b[0m\n",
       "\u001b[0;31mDocstring:\u001b[0m     \n",
       "Class for reading SNANA photometry tables in FITS format\n",
       "\n",
       "Parameters\n",
       "----------\n",
       "- version: [str] data version name. It is the prefix to the _HEAD and _PHOT\n",
       "            filenames\n",
       "\n",
       "Attributes\n",
       "----------\n",
       "- dump_head: [astropy.table.Table] the header of photometry table\n",
       "- dump_phot: [astropy.table.Table] the photometry table data\n",
       "- head_df: [pandas.DataFrame] the header in Pandas format\n",
       "- phot_df: [pandas.DataFrame] the photometry table in Pandas format\n",
       "- cid_recs: [numpy.ndarray] the array of CIDs present in the data\n",
       "\n",
       "Methods\n",
       "-------\n",
       "- get_lc(cid: str): [None, pandas.DataFrame] returns a lightcurve\n",
       "- phot_table: -property- [pandas.DataFrame] returns the photometry df\n",
       "- get_lcs(cidlist: list, tuple): [pandas.DataFrame] returns a\n",
       "        data frame with the photometry for a list of cids\n",
       "\u001b[0;31mFile:\u001b[0m           ~/Data/DES/DESSNDR/DESSN5YR_TESTDR/dessndr/utils.py\n",
       "\u001b[0;31mType:\u001b[0m           type\n",
       "\u001b[0;31mSubclasses:\u001b[0m     "
      ]
     },
     "metadata": {},
     "output_type": "display_data"
    }
   ],
   "source": [
    "utils.PhotFITS?"
   ]
  },
  {
   "cell_type": "code",
   "execution_count": 8,
   "metadata": {},
   "outputs": [],
   "source": [
    "phot = utils.PhotFITS(phot_version)"
   ]
  },
  {
   "cell_type": "markdown",
   "metadata": {},
   "source": [
    "We can inspect some of the details of `phot` instance now, checking the header and photometry table. \n",
    "\n",
    "Both are pandas DataFrame instances, related by the `SNID` (or more precisely Candidate ID `CID`)"
   ]
  },
  {
   "cell_type": "code",
   "execution_count": 9,
   "metadata": {},
   "outputs": [
    {
     "data": {
      "text/html": [
       "<div>\n",
       "<style scoped>\n",
       "    .dataframe tbody tr th:only-of-type {\n",
       "        vertical-align: middle;\n",
       "    }\n",
       "\n",
       "    .dataframe tbody tr th {\n",
       "        vertical-align: top;\n",
       "    }\n",
       "\n",
       "    .dataframe thead th {\n",
       "        text-align: right;\n",
       "    }\n",
       "</style>\n",
       "<table border=\"1\" class=\"dataframe\">\n",
       "  <thead>\n",
       "    <tr style=\"text-align: right;\">\n",
       "      <th></th>\n",
       "      <th>SNID</th>\n",
       "      <th>IAUC</th>\n",
       "      <th>FAKE</th>\n",
       "      <th>MASK_FLUXCOR_SNANA</th>\n",
       "      <th>RA</th>\n",
       "      <th>DEC</th>\n",
       "      <th>PIXSIZE</th>\n",
       "      <th>NXPIX</th>\n",
       "      <th>NYPIX</th>\n",
       "      <th>SNTYPE</th>\n",
       "      <th>...</th>\n",
       "      <th>HOSTGAL_SB_FLUXCAL_g</th>\n",
       "      <th>HOSTGAL_SB_FLUXCAL_r</th>\n",
       "      <th>HOSTGAL_SB_FLUXCAL_i</th>\n",
       "      <th>HOSTGAL_SB_FLUXCAL_z</th>\n",
       "      <th>PEAKMJD</th>\n",
       "      <th>MJD_TRIGGER</th>\n",
       "      <th>MJD_DETECT_FIRST</th>\n",
       "      <th>MJD_DETECT_LAST</th>\n",
       "      <th>SEARCH_TYPE</th>\n",
       "      <th>PRIVATE(AGN_SCAN)</th>\n",
       "    </tr>\n",
       "  </thead>\n",
       "  <tbody>\n",
       "    <tr>\n",
       "      <th>0</th>\n",
       "      <td>1642082</td>\n",
       "      <td>b'UNKNOWN         '</td>\n",
       "      <td>0</td>\n",
       "      <td>0</td>\n",
       "      <td>35.169212</td>\n",
       "      <td>-5.698688</td>\n",
       "      <td>0.263</td>\n",
       "      <td>2048</td>\n",
       "      <td>4096</td>\n",
       "      <td>0</td>\n",
       "      <td>...</td>\n",
       "      <td>27.120001</td>\n",
       "      <td>78.250000</td>\n",
       "      <td>109.330002</td>\n",
       "      <td>138.820007</td>\n",
       "      <td>57739.117188</td>\n",
       "      <td>57756.070312</td>\n",
       "      <td>57739.117188</td>\n",
       "      <td>57756.070312</td>\n",
       "      <td>-9</td>\n",
       "      <td>-1.0</td>\n",
       "    </tr>\n",
       "    <tr>\n",
       "      <th>1</th>\n",
       "      <td>1294480</td>\n",
       "      <td>b'UNKNOWN         '</td>\n",
       "      <td>0</td>\n",
       "      <td>0</td>\n",
       "      <td>34.010349</td>\n",
       "      <td>-5.383460</td>\n",
       "      <td>0.263</td>\n",
       "      <td>2048</td>\n",
       "      <td>4096</td>\n",
       "      <td>0</td>\n",
       "      <td>...</td>\n",
       "      <td>28.950001</td>\n",
       "      <td>138.470001</td>\n",
       "      <td>249.429993</td>\n",
       "      <td>354.040009</td>\n",
       "      <td>56956.085938</td>\n",
       "      <td>-9.000000</td>\n",
       "      <td>56956.085938</td>\n",
       "      <td>57311.109375</td>\n",
       "      <td>-9</td>\n",
       "      <td>-1.0</td>\n",
       "    </tr>\n",
       "    <tr>\n",
       "      <th>2</th>\n",
       "      <td>1402031</td>\n",
       "      <td>b'UNKNOWN         '</td>\n",
       "      <td>0</td>\n",
       "      <td>0</td>\n",
       "      <td>8.426459</td>\n",
       "      <td>-44.096779</td>\n",
       "      <td>0.263</td>\n",
       "      <td>2048</td>\n",
       "      <td>4096</td>\n",
       "      <td>0</td>\n",
       "      <td>...</td>\n",
       "      <td>-1.510000</td>\n",
       "      <td>2.420000</td>\n",
       "      <td>1.830000</td>\n",
       "      <td>-1.640000</td>\n",
       "      <td>0.010000</td>\n",
       "      <td>-9.000000</td>\n",
       "      <td>57642.109375</td>\n",
       "      <td>-9.000000</td>\n",
       "      <td>-9</td>\n",
       "      <td>-1.0</td>\n",
       "    </tr>\n",
       "    <tr>\n",
       "      <th>3</th>\n",
       "      <td>1690045</td>\n",
       "      <td>b'UNKNOWN         '</td>\n",
       "      <td>0</td>\n",
       "      <td>0</td>\n",
       "      <td>34.245853</td>\n",
       "      <td>-5.856924</td>\n",
       "      <td>0.263</td>\n",
       "      <td>2048</td>\n",
       "      <td>4096</td>\n",
       "      <td>0</td>\n",
       "      <td>...</td>\n",
       "      <td>1.550000</td>\n",
       "      <td>3.490000</td>\n",
       "      <td>4.090000</td>\n",
       "      <td>5.510000</td>\n",
       "      <td>57773.062500</td>\n",
       "      <td>57763.066406</td>\n",
       "      <td>57756.054688</td>\n",
       "      <td>57781.058594</td>\n",
       "      <td>-9</td>\n",
       "      <td>1.0</td>\n",
       "    </tr>\n",
       "    <tr>\n",
       "      <th>4</th>\n",
       "      <td>1905022</td>\n",
       "      <td>b'UNKNOWN         '</td>\n",
       "      <td>0</td>\n",
       "      <td>0</td>\n",
       "      <td>6.930402</td>\n",
       "      <td>-42.952053</td>\n",
       "      <td>0.263</td>\n",
       "      <td>2048</td>\n",
       "      <td>4096</td>\n",
       "      <td>0</td>\n",
       "      <td>...</td>\n",
       "      <td>77.339996</td>\n",
       "      <td>119.080002</td>\n",
       "      <td>142.720001</td>\n",
       "      <td>147.770004</td>\n",
       "      <td>58014.066406</td>\n",
       "      <td>58071.031250</td>\n",
       "      <td>57985.218750</td>\n",
       "      <td>58071.031250</td>\n",
       "      <td>-9</td>\n",
       "      <td>-1.0</td>\n",
       "    </tr>\n",
       "  </tbody>\n",
       "</table>\n",
       "<p>5 rows × 96 columns</p>\n",
       "</div>"
      ],
      "text/plain": [
       "      SNID                 IAUC  FAKE  MASK_FLUXCOR_SNANA         RA  \\\n",
       "0  1642082  b'UNKNOWN         '     0                   0  35.169212   \n",
       "1  1294480  b'UNKNOWN         '     0                   0  34.010349   \n",
       "2  1402031  b'UNKNOWN         '     0                   0   8.426459   \n",
       "3  1690045  b'UNKNOWN         '     0                   0  34.245853   \n",
       "4  1905022  b'UNKNOWN         '     0                   0   6.930402   \n",
       "\n",
       "         DEC  PIXSIZE  NXPIX  NYPIX  SNTYPE  ...  HOSTGAL_SB_FLUXCAL_g  \\\n",
       "0  -5.698688    0.263   2048   4096       0  ...             27.120001   \n",
       "1  -5.383460    0.263   2048   4096       0  ...             28.950001   \n",
       "2 -44.096779    0.263   2048   4096       0  ...             -1.510000   \n",
       "3  -5.856924    0.263   2048   4096       0  ...              1.550000   \n",
       "4 -42.952053    0.263   2048   4096       0  ...             77.339996   \n",
       "\n",
       "   HOSTGAL_SB_FLUXCAL_r  HOSTGAL_SB_FLUXCAL_i  HOSTGAL_SB_FLUXCAL_z  \\\n",
       "0             78.250000            109.330002            138.820007   \n",
       "1            138.470001            249.429993            354.040009   \n",
       "2              2.420000              1.830000             -1.640000   \n",
       "3              3.490000              4.090000              5.510000   \n",
       "4            119.080002            142.720001            147.770004   \n",
       "\n",
       "        PEAKMJD   MJD_TRIGGER  MJD_DETECT_FIRST  MJD_DETECT_LAST  SEARCH_TYPE  \\\n",
       "0  57739.117188  57756.070312      57739.117188     57756.070312           -9   \n",
       "1  56956.085938     -9.000000      56956.085938     57311.109375           -9   \n",
       "2      0.010000     -9.000000      57642.109375        -9.000000           -9   \n",
       "3  57773.062500  57763.066406      57756.054688     57781.058594           -9   \n",
       "4  58014.066406  58071.031250      57985.218750     58071.031250           -9   \n",
       "\n",
       "   PRIVATE(AGN_SCAN)  \n",
       "0               -1.0  \n",
       "1               -1.0  \n",
       "2               -1.0  \n",
       "3                1.0  \n",
       "4               -1.0  \n",
       "\n",
       "[5 rows x 96 columns]"
      ]
     },
     "execution_count": 9,
     "metadata": {},
     "output_type": "execute_result"
    }
   ],
   "source": [
    "phot.head_df.head()"
   ]
  },
  {
   "cell_type": "markdown",
   "metadata": {},
   "source": [
    "We can see how many columns of metadata the `header` contains.\n",
    "\n",
    "Here we can basically find a single row per event, with all the ancilliary information useful for cosmology."
   ]
  },
  {
   "cell_type": "code",
   "execution_count": 10,
   "metadata": {},
   "outputs": [
    {
     "data": {
      "text/plain": [
       "Index(['SNID', 'IAUC', 'FAKE', 'MASK_FLUXCOR_SNANA', 'RA', 'DEC', 'PIXSIZE',\n",
       "       'NXPIX', 'NYPIX', 'SNTYPE', 'NOBS', 'PTROBS_MIN', 'PTROBS_MAX', 'MWEBV',\n",
       "       'MWEBV_ERR', 'REDSHIFT_HELIO', 'REDSHIFT_HELIO_ERR', 'REDSHIFT_FINAL',\n",
       "       'REDSHIFT_FINAL_ERR', 'REDSHIFT_QUALITYFLAG', 'MASK_REDSHIFT_SOURCE',\n",
       "       'VPEC', 'VPEC_ERR', 'HOSTGAL_NMATCH', 'HOSTGAL_NMATCH2',\n",
       "       'HOSTGAL_OBJID', 'HOSTGAL_FLAG', 'HOSTGAL_PHOTOZ', 'HOSTGAL_PHOTOZ_ERR',\n",
       "       'HOSTGAL_SPECZ', 'HOSTGAL_SPECZ_ERR', 'HOSTGAL_RA', 'HOSTGAL_DEC',\n",
       "       'HOSTGAL_SNSEP', 'HOSTGAL_DDLR', 'HOSTGAL_CONFUSION', 'HOSTGAL_LOGMASS',\n",
       "       'HOSTGAL_LOGMASS_ERR', 'HOSTGAL_LOGSFR', 'HOSTGAL_LOGSFR_ERR',\n",
       "       'HOSTGAL_LOGsSFR', 'HOSTGAL_LOGsSFR_ERR', 'HOSTGAL_COLOR',\n",
       "       'HOSTGAL_COLOR_ERR', 'HOSTGAL_ELLIPTICITY', 'HOSTGAL_OBJID2',\n",
       "       'HOSTGAL_SQRADIUS', 'HOSTGAL_OBJID_UNIQUE', 'HOSTGAL_MAG_g',\n",
       "       'HOSTGAL_MAG_r', 'HOSTGAL_MAG_i', 'HOSTGAL_MAG_z', 'HOSTGAL_MAGERR_g',\n",
       "       'HOSTGAL_MAGERR_r', 'HOSTGAL_MAGERR_i', 'HOSTGAL_MAGERR_z',\n",
       "       'HOSTGAL2_OBJID', 'HOSTGAL2_FLAG', 'HOSTGAL2_PHOTOZ',\n",
       "       'HOSTGAL2_PHOTOZ_ERR', 'HOSTGAL2_SPECZ', 'HOSTGAL2_SPECZ_ERR',\n",
       "       'HOSTGAL2_RA', 'HOSTGAL2_DEC', 'HOSTGAL2_SNSEP', 'HOSTGAL2_DDLR',\n",
       "       'HOSTGAL2_LOGMASS', 'HOSTGAL2_LOGMASS_ERR', 'HOSTGAL2_LOGSFR',\n",
       "       'HOSTGAL2_LOGSFR_ERR', 'HOSTGAL2_LOGsSFR', 'HOSTGAL2_LOGsSFR_ERR',\n",
       "       'HOSTGAL2_COLOR', 'HOSTGAL2_COLOR_ERR', 'HOSTGAL2_ELLIPTICITY',\n",
       "       'HOSTGAL2_OBJID2', 'HOSTGAL2_SQRADIUS', 'HOSTGAL2_OBJID_UNIQUE',\n",
       "       'HOSTGAL2_MAG_g', 'HOSTGAL2_MAG_r', 'HOSTGAL2_MAG_i', 'HOSTGAL2_MAG_z',\n",
       "       'HOSTGAL2_MAGERR_g', 'HOSTGAL2_MAGERR_r', 'HOSTGAL2_MAGERR_i',\n",
       "       'HOSTGAL2_MAGERR_z', 'HOSTGAL_SB_FLUXCAL_g', 'HOSTGAL_SB_FLUXCAL_r',\n",
       "       'HOSTGAL_SB_FLUXCAL_i', 'HOSTGAL_SB_FLUXCAL_z', 'PEAKMJD',\n",
       "       'MJD_TRIGGER', 'MJD_DETECT_FIRST', 'MJD_DETECT_LAST', 'SEARCH_TYPE',\n",
       "       'PRIVATE(AGN_SCAN)'],\n",
       "      dtype='object')"
      ]
     },
     "execution_count": 10,
     "metadata": {},
     "output_type": "execute_result"
    }
   ],
   "source": [
    "phot.head_df.columns"
   ]
  },
  {
   "cell_type": "markdown",
   "metadata": {},
   "source": [
    "We take for example the event 350 in our table:"
   ]
  },
  {
   "cell_type": "markdown",
   "metadata": {},
   "source": [
    "We can check the `CID`, position and `PEAKMJD`:"
   ]
  },
  {
   "cell_type": "code",
   "execution_count": 11,
   "metadata": {},
   "outputs": [
    {
     "data": {
      "text/plain": [
       "SNID            1449078\n",
       "RA            53.647507\n",
       "DEC          -28.908772\n",
       "PEAKMJD    57686.113281\n",
       "Name: 350, dtype: object"
      ]
     },
     "execution_count": 11,
     "metadata": {},
     "output_type": "execute_result"
    }
   ],
   "source": [
    "phot.head_df.iloc[350][['SNID', 'RA', 'DEC', 'PEAKMJD']]"
   ]
  },
  {
   "cell_type": "markdown",
   "metadata": {},
   "source": [
    "We see that the `phot` instance table has many rows and each one of them is indexed by the `SNID`. \n",
    "\n",
    "`phot` can also show us the list of `SNID` in the files."
   ]
  },
  {
   "cell_type": "code",
   "execution_count": 12,
   "metadata": {},
   "outputs": [
    {
     "data": {
      "text/plain": [
       "19706"
      ]
     },
     "execution_count": 12,
     "metadata": {},
     "output_type": "execute_result"
    }
   ],
   "source": [
    "len(phot.head_df)"
   ]
  },
  {
   "cell_type": "code",
   "execution_count": 13,
   "metadata": {},
   "outputs": [
    {
     "data": {
      "text/plain": [
       "array([1642082, 1294480, 1402031, ..., 1279857, 1246351, 1255127])"
      ]
     },
     "execution_count": 13,
     "metadata": {},
     "output_type": "execute_result"
    }
   ],
   "source": [
    "phot.cid_recs"
   ]
  },
  {
   "cell_type": "markdown",
   "metadata": {},
   "source": [
    "We have a search utility to query the `CID` we are interested in:"
   ]
  },
  {
   "cell_type": "code",
   "execution_count": 14,
   "metadata": {},
   "outputs": [
    {
     "name": "stdout",
     "output_type": "stream",
     "text": [
      "1449078\n"
     ]
    }
   ],
   "source": [
    "myCid = phot.cid_recs[350]\n",
    "print(myCid)"
   ]
  },
  {
   "cell_type": "code",
   "execution_count": 15,
   "metadata": {
    "scrolled": true
   },
   "outputs": [],
   "source": [
    "results = phot.query_cids(myCid)"
   ]
  },
  {
   "cell_type": "code",
   "execution_count": 16,
   "metadata": {},
   "outputs": [
    {
     "data": {
      "text/plain": [
       "350    53.647507\n",
       "Name: RA, dtype: float64"
      ]
     },
     "execution_count": 16,
     "metadata": {},
     "output_type": "execute_result"
    }
   ],
   "source": [
    "results[myCid]['RA']"
   ]
  },
  {
   "cell_type": "markdown",
   "metadata": {},
   "source": [
    "This returns a dictionary with keys using our chosen `CID` and the metadata in a nested dictionary.\n",
    "\n",
    "It also works with lists of `CID`s if needed.\n",
    "\n",
    "We can load this particular light-curve, for inspection. In this case we make use of the method `get_lc` :"
   ]
  },
  {
   "cell_type": "code",
   "execution_count": 17,
   "metadata": {},
   "outputs": [
    {
     "data": {
      "text/html": [
       "<div>\n",
       "<style scoped>\n",
       "    .dataframe tbody tr th:only-of-type {\n",
       "        vertical-align: middle;\n",
       "    }\n",
       "\n",
       "    .dataframe tbody tr th {\n",
       "        vertical-align: top;\n",
       "    }\n",
       "\n",
       "    .dataframe thead th {\n",
       "        text-align: right;\n",
       "    }\n",
       "</style>\n",
       "<table border=\"1\" class=\"dataframe\">\n",
       "  <thead>\n",
       "    <tr style=\"text-align: right;\">\n",
       "      <th></th>\n",
       "      <th>MJD</th>\n",
       "      <th>BAND</th>\n",
       "      <th>CCDNUM</th>\n",
       "      <th>IMGNUM</th>\n",
       "      <th>FIELD</th>\n",
       "      <th>PHOTFLAG</th>\n",
       "      <th>PHOTPROB</th>\n",
       "      <th>FLUXCAL</th>\n",
       "      <th>FLUXCALERR</th>\n",
       "      <th>PSF_SIG1</th>\n",
       "      <th>...</th>\n",
       "      <th>PSF_RATIO</th>\n",
       "      <th>SKY_SIG</th>\n",
       "      <th>SKY_SIG_T</th>\n",
       "      <th>RDNOISE</th>\n",
       "      <th>ZEROPT</th>\n",
       "      <th>ZEROPT_ERR</th>\n",
       "      <th>GAIN</th>\n",
       "      <th>XPIX</th>\n",
       "      <th>YPIX</th>\n",
       "      <th>MAG</th>\n",
       "    </tr>\n",
       "  </thead>\n",
       "  <tbody>\n",
       "    <tr>\n",
       "      <th>34555</th>\n",
       "      <td>57623.401</td>\n",
       "      <td>r</td>\n",
       "      <td>20</td>\n",
       "      <td>566629</td>\n",
       "      <td>C2</td>\n",
       "      <td>1</td>\n",
       "      <td>0.0</td>\n",
       "      <td>1.050</td>\n",
       "      <td>9.193400</td>\n",
       "      <td>2.375</td>\n",
       "      <td>...</td>\n",
       "      <td>0.0</td>\n",
       "      <td>78.500000</td>\n",
       "      <td>0.0</td>\n",
       "      <td>-9.0</td>\n",
       "      <td>32.273998</td>\n",
       "      <td>0.0</td>\n",
       "      <td>1.02</td>\n",
       "      <td>1963.099976</td>\n",
       "      <td>936.599976</td>\n",
       "      <td>27.447027</td>\n",
       "    </tr>\n",
       "    <tr>\n",
       "      <th>34556</th>\n",
       "      <td>57623.403</td>\n",
       "      <td>i</td>\n",
       "      <td>20</td>\n",
       "      <td>566630</td>\n",
       "      <td>C2</td>\n",
       "      <td>1</td>\n",
       "      <td>0.0</td>\n",
       "      <td>6.220</td>\n",
       "      <td>8.719160</td>\n",
       "      <td>2.482</td>\n",
       "      <td>...</td>\n",
       "      <td>0.0</td>\n",
       "      <td>97.099998</td>\n",
       "      <td>0.0</td>\n",
       "      <td>-9.0</td>\n",
       "      <td>32.546001</td>\n",
       "      <td>0.0</td>\n",
       "      <td>1.03</td>\n",
       "      <td>1960.199951</td>\n",
       "      <td>940.000000</td>\n",
       "      <td>25.515524</td>\n",
       "    </tr>\n",
       "    <tr>\n",
       "      <th>34557</th>\n",
       "      <td>57623.408</td>\n",
       "      <td>z</td>\n",
       "      <td>20</td>\n",
       "      <td>566631</td>\n",
       "      <td>C2</td>\n",
       "      <td>2049</td>\n",
       "      <td>0.0</td>\n",
       "      <td>-11.037</td>\n",
       "      <td>8.398740</td>\n",
       "      <td>2.284</td>\n",
       "      <td>...</td>\n",
       "      <td>0.0</td>\n",
       "      <td>162.399994</td>\n",
       "      <td>0.0</td>\n",
       "      <td>-9.0</td>\n",
       "      <td>33.049000</td>\n",
       "      <td>0.0</td>\n",
       "      <td>1.02</td>\n",
       "      <td>1935.000000</td>\n",
       "      <td>954.799988</td>\n",
       "      <td>NaN</td>\n",
       "    </tr>\n",
       "    <tr>\n",
       "      <th>34558</th>\n",
       "      <td>57627.392</td>\n",
       "      <td>g</td>\n",
       "      <td>20</td>\n",
       "      <td>568227</td>\n",
       "      <td>C2</td>\n",
       "      <td>1</td>\n",
       "      <td>0.0</td>\n",
       "      <td>1.340</td>\n",
       "      <td>9.836040</td>\n",
       "      <td>2.515</td>\n",
       "      <td>...</td>\n",
       "      <td>0.0</td>\n",
       "      <td>45.400002</td>\n",
       "      <td>0.0</td>\n",
       "      <td>-9.0</td>\n",
       "      <td>31.580999</td>\n",
       "      <td>0.0</td>\n",
       "      <td>1.07</td>\n",
       "      <td>1965.199951</td>\n",
       "      <td>951.900024</td>\n",
       "      <td>27.182238</td>\n",
       "    </tr>\n",
       "    <tr>\n",
       "      <th>34559</th>\n",
       "      <td>57627.394</td>\n",
       "      <td>r</td>\n",
       "      <td>20</td>\n",
       "      <td>568228</td>\n",
       "      <td>C2</td>\n",
       "      <td>1</td>\n",
       "      <td>0.0</td>\n",
       "      <td>-11.648</td>\n",
       "      <td>14.469305</td>\n",
       "      <td>2.551</td>\n",
       "      <td>...</td>\n",
       "      <td>0.0</td>\n",
       "      <td>63.099998</td>\n",
       "      <td>0.0</td>\n",
       "      <td>-9.0</td>\n",
       "      <td>31.596001</td>\n",
       "      <td>0.0</td>\n",
       "      <td>1.02</td>\n",
       "      <td>1952.300049</td>\n",
       "      <td>949.200012</td>\n",
       "      <td>NaN</td>\n",
       "    </tr>\n",
       "  </tbody>\n",
       "</table>\n",
       "<p>5 rows × 21 columns</p>\n",
       "</div>"
      ],
      "text/plain": [
       "             MJD BAND  CCDNUM  IMGNUM         FIELD  PHOTFLAG  PHOTPROB  \\\n",
       "34555  57623.401   r       20  566629  C2                   1       0.0   \n",
       "34556  57623.403   i       20  566630  C2                   1       0.0   \n",
       "34557  57623.408   z       20  566631  C2                2049       0.0   \n",
       "34558  57627.392   g       20  568227  C2                   1       0.0   \n",
       "34559  57627.394   r       20  568228  C2                   1       0.0   \n",
       "\n",
       "       FLUXCAL  FLUXCALERR  PSF_SIG1  ...  PSF_RATIO     SKY_SIG  SKY_SIG_T  \\\n",
       "34555    1.050    9.193400     2.375  ...        0.0   78.500000        0.0   \n",
       "34556    6.220    8.719160     2.482  ...        0.0   97.099998        0.0   \n",
       "34557  -11.037    8.398740     2.284  ...        0.0  162.399994        0.0   \n",
       "34558    1.340    9.836040     2.515  ...        0.0   45.400002        0.0   \n",
       "34559  -11.648   14.469305     2.551  ...        0.0   63.099998        0.0   \n",
       "\n",
       "       RDNOISE     ZEROPT  ZEROPT_ERR  GAIN         XPIX        YPIX  \\\n",
       "34555     -9.0  32.273998         0.0  1.02  1963.099976  936.599976   \n",
       "34556     -9.0  32.546001         0.0  1.03  1960.199951  940.000000   \n",
       "34557     -9.0  33.049000         0.0  1.02  1935.000000  954.799988   \n",
       "34558     -9.0  31.580999         0.0  1.07  1965.199951  951.900024   \n",
       "34559     -9.0  31.596001         0.0  1.02  1952.300049  949.200012   \n",
       "\n",
       "             MAG  \n",
       "34555  27.447027  \n",
       "34556  25.515524  \n",
       "34557        NaN  \n",
       "34558  27.182238  \n",
       "34559        NaN  \n",
       "\n",
       "[5 rows x 21 columns]"
      ]
     },
     "execution_count": 17,
     "metadata": {},
     "output_type": "execute_result"
    }
   ],
   "source": [
    "lc = phot.get_lc(myCid)\n",
    "lc.head()"
   ]
  },
  {
   "cell_type": "code",
   "execution_count": 18,
   "metadata": {},
   "outputs": [
    {
     "data": {
      "text/plain": [
       "Index(['MJD', 'BAND', 'CCDNUM', 'IMGNUM', 'FIELD', 'PHOTFLAG', 'PHOTPROB',\n",
       "       'FLUXCAL', 'FLUXCALERR', 'PSF_SIG1', 'PSF_SIG2', 'PSF_RATIO', 'SKY_SIG',\n",
       "       'SKY_SIG_T', 'RDNOISE', 'ZEROPT', 'ZEROPT_ERR', 'GAIN', 'XPIX', 'YPIX',\n",
       "       'MAG'],\n",
       "      dtype='object')"
      ]
     },
     "execution_count": 18,
     "metadata": {},
     "output_type": "execute_result"
    }
   ],
   "source": [
    "lc.columns"
   ]
  },
  {
   "cell_type": "markdown",
   "metadata": {},
   "source": [
    "We obtain another DataFrame with the time-series data loaded in for our `CID`.\n",
    "\n",
    "We can also use the `get_lcs` for multiple events, providing a list of `CID`s in that case.\n",
    "\n",
    "Let's try to visualize this light-curve using the `plot` module from `dessndr`"
   ]
  },
  {
   "cell_type": "code",
   "execution_count": 19,
   "metadata": {},
   "outputs": [],
   "source": [
    "from dessndr import plot"
   ]
  },
  {
   "cell_type": "code",
   "execution_count": 20,
   "metadata": {},
   "outputs": [
    {
     "data": {
      "text/plain": [
       "(<Figure size 1000x600 with 1 Axes>,\n",
       " <Axes: title={'center': 'Supernova Light CurveCID: 1449078'}, xlabel='MJD', ylabel='Flux'>)"
      ]
     },
     "execution_count": 20,
     "metadata": {},
     "output_type": "execute_result"
    },
    {
     "data": {
      "image/png": "[encoded data removed]",
      "text/plain": [
       "<Figure size 1000x600 with 1 Axes>"
      ]
     },
     "metadata": {},
     "output_type": "display_data"
    }
   ],
   "source": [
    "plot.plot_sn_light_curve(lc, CID=myCid, figsize=(10, 6))"
   ]
  }
 ],
 "metadata": {
  "kernelspec": {
   "display_name": "Python 3 (ipykernel)",
   "language": "python",
   "name": "python3"
  },
  "language_info": {
   "codemirror_mode": {
    "name": "ipython",
    "version": 3
   },
   "file_extension": ".py",
   "mimetype": "text/x-python",
   "name": "python",
   "nbconvert_exporter": "python",
   "pygments_lexer": "ipython3",
   "version": "3.12.3"
  }
 },
 "nbformat": 4,
 "nbformat_minor": 4
}
